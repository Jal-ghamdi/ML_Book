{
  "nbformat": 4,
  "nbformat_minor": 0,
  "metadata": {
    "colab": {
      "provenance": []
    },
    "kernelspec": {
      "name": "python3",
      "display_name": "Python 3"
    },
    "language_info": {
      "name": "python"
    }
  },
  "cells": [
    {
      "cell_type": "markdown",
      "source": [
        "# Simple Calculations Notebook\n",
        "\n",
        "Welcome to the \"Simple Calculations\" notebook! This notebook is designed to help you practice basic calculations using Python. You will learn how to perform arithmetic operations, work with variables, and display results.\n",
        "\n",
        "Let's get started!\n"
      ],
      "metadata": {
        "id": "SeQ4i4SH0Ycj"
      }
    },
    {
      "cell_type": "code",
      "execution_count": 2,
      "metadata": {
        "colab": {
          "base_uri": "https://localhost:8080/"
        },
        "id": "klt8BB9BrZbw",
        "outputId": "40eecee8-14a5-49ec-bf4f-d150395ba409"
      },
      "outputs": [
        {
          "output_type": "stream",
          "name": "stdout",
          "text": [
            "The sum of 5 and 3 is: 8\n",
            "The difference between 5 and 3 is: 2\n",
            "The product of 5 and 3 is: 15\n",
            "The division of 5 by 3 is: 1.6666666666666667\n"
          ]
        }
      ],
      "source": [
        "# Cell 1: Basic Arithmetic Operations\n",
        "# Here, we'll perform some basic arithmetic operations.\n",
        "\n",
        "# Addition\n",
        "a = 5\n",
        "b = 3\n",
        "sum_result = a + b\n",
        "print(\"The sum of\", a, \"and\", b, \"is:\", sum_result)\n",
        "\n",
        "# Subtraction\n",
        "sub_result = a - b\n",
        "print(\"The difference between\", a, \"and\", b, \"is:\", sub_result)\n",
        "\n",
        "# Multiplication\n",
        "mul_result = a * b\n",
        "print(\"The product of\", a, \"and\", b, \"is:\", mul_result)\n",
        "\n",
        "# Division\n",
        "div_result = a / b\n",
        "print(\"The division of\", a, \"by\", b, \"is:\", div_result)"
      ]
    },
    {
      "cell_type": "markdown",
      "source": [
        "## Working with Variables\n",
        "\n",
        "In this section, we will learn about variables and how to use them to store values.\n",
        "\n",
        "A variable is a way to store data in memory. Here are a few examples:\n"
      ],
      "metadata": {
        "id": "PBFCzcgh0it_"
      }
    },
    {
      "cell_type": "code",
      "source": [
        "# Cell 2: Working with Variables\n",
        "# Assigning values to variables\n",
        "x = 10\n",
        "y = 20\n",
        "\n",
        "# Performing calculations with variables\n",
        "total = x + y\n",
        "print(\"The total of x and y is:\", total)"
      ],
      "metadata": {
        "colab": {
          "base_uri": "https://localhost:8080/"
        },
        "id": "42Of8wrRrv8y",
        "outputId": "218ad8e5-c363-4db2-ea3b-f9ed3c590008"
      },
      "execution_count": 3,
      "outputs": [
        {
          "output_type": "stream",
          "name": "stdout",
          "text": [
            "The total of x and y is: 30\n"
          ]
        }
      ]
    },
    {
      "cell_type": "markdown",
      "source": [
        "You've now completed some simple calculations using Python! Feel free to modify the numbers and explore different arithmetic operations. Practice makes perfect!\n",
        "\n",
        "## Try It Out!\n",
        "\n",
        "Now that you have the code set up, it's your turn to experiment!\n",
        "\n",
        "1. **Run Each Cell**: Click on each cell and press `Shift + Enter` to execute the code. This will display the results immediately below the cell.\n",
        "   \n",
        "2. **Experiment with Values**: Change the values of the variables (like `a`, `b`, `x`, and `y`) to see how the results change. For example, try using different numbers for addition, subtraction, multiplication, and division.\n",
        "\n",
        "3. **Explore Different Operations**: You can also try other operations like modulus (`%`) to find the remainder or exponentiation (`**`) to raise a number to a power.\n",
        "\n",
        "Feel free to modify the code and see what happens. This is a great way to deepen your understanding of Python and calculations!\n"
      ],
      "metadata": {
        "id": "5TznILdF06FC"
      }
    },
    {
      "cell_type": "code",
      "source": [],
      "metadata": {
        "id": "kxD94g1l0vmD"
      },
      "execution_count": null,
      "outputs": []
    }
  ]
}